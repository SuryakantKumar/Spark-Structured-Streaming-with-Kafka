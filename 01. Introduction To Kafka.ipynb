{
 "cells": [
  {
   "attachments": {
    "c9494563-7284-4c71-9fe4-40d31b4558ff.gif": {
     "image/gif": "[encoded data removed]"
    },
    "ecd1af6f-8660-4379-b68f-bad3ed6d67c8.gif": {
     "image/gif": "[encoded data removed]"
    }
   },
   "cell_type": "markdown",
   "id": "a8c877d7-117e-47e6-a7bb-55a86e045312",
   "metadata": {},
   "source": [
    "[![icons8-linkedin.gif](attachment:c9494563-7284-4c71-9fe4-40d31b4558ff.gif 'Author : Suryakant Kumar')](https://www.linkedin.com/in/suryakantkumar/)[![icons8-github.gif](attachment:ecd1af6f-8660-4379-b68f-bad3ed6d67c8.gif 'Author : Suryakant Kumar')](https://github.com/SuryakantKumar)"
   ]
  },
  {
   "cell_type": "markdown",
   "id": "9c5d0ab1-4280-49a5-a11a-b613a5b5f904",
   "metadata": {},
   "source": [
    "## Overview of Kafka\n",
    "\n",
    "* Apache `Kafka` is an open-source `distributed` streaming platform that is designed to handle `high-throughput`, `fault-tolerant`, and `low-latency` publish-subscribe messaging system to process large volumes of real-time data feeds.\n",
    "\n",
    "* It was developed by `LinkedIn` and later donated to the Apache Software Foundation in 2011. Later, It became a popular choice for building real-time data pipelines and streaming applications.\n",
    "\n",
    "* Kafka uses `Topics` to organize data, `Producers` to publish data, `Consumers` to read data, and `Brokers` to host the topics and partitions."
   ]
  },
  {
   "cell_type": "markdown",
   "id": "be1267b9-6b1f-4a2c-94e8-e264e4ad1405",
   "metadata": {},
   "source": [
    "## Key Features of Kafka\n",
    "\n",
    "Apache `Kafka` is nothing but an event streaming platform. `Event` is nothing but a message, that is generated by our application.\n",
    "\n",
    "**`1.`** Kafka is primarily used to publish (`write`) and subscribe (`read`) the stream of events.\n",
    "* When we say `publish`, Our applications will write to Kafka Topic.\n",
    "\n",
    "* When we say `subscribe`, Some external applications will subscribe to this topic and capture those stream of events.\n",
    "\n",
    "* It also supports continuous import or export of data from other systems.\n",
    "\n",
    "* For example, If we have databases like `MongoDB` and, If we want to stream the logs of MongoDB & do whatever we want with these logs downstream then, We can even use Kafka for these activities.\n",
    "\n",
    "* Kafka comes with something called as Kafka ecosystem. It has tools like `Kafka Connect`, Using which we can import or export the data continuously from even traditional `RDBMS` databases.\n",
    "\n",
    "**`2.`** We can store streams of events durably and reliably for as long as we want, within Kafka. Which means we can configure, how long we want to capture the events in Kafka Topics.\n",
    "\n",
    "**`3.`** We can also process streams of events, as they occur or retrospectively (we can go back and process from wherever we want)."
   ]
  },
  {
   "cell_type": "markdown",
   "id": "76aea44d-d660-479f-8dcf-7657a34d5544",
   "metadata": {},
   "source": [
    "## Key Concepts of Kafka\n",
    "\n",
    "All of these functionalities is provided in a distributed, highly-scalable, fault-tolerant and secure manner. It is all about publishing and subscribing to stream of events and processing those in continuous fashion.\n",
    "\n",
    "* **`Distributed -`** It means, We'll be having multiple `nodes` in a Kafka cluster.\n",
    "\n",
    "    * We'll be creating something called as `topic`.\n",
    "\n",
    "    * The topic will be `partitioned`.\n",
    "\n",
    "    * Each partition might go to different `nodes` in the cluster.\n",
    "\n",
    "    * Which means a `Kafka topic`, which actually captures messages for a given application, is distributed on multiple nodes in the cluster.\n",
    "\n",
    "* **`Highly Scalable -`** It means, As we produce messages into Kafka topic, If we are falling behind, We might want to customize in such a way that, we will be able to produce messages as they occur with minimum latency. Same is the case with subscribing or consuming those messages.\n",
    "\n",
    "    * For both publishing as well as subscribing, We should be able to `scale up` and `scale down`, Depending upon the amount of events that are being written into the Kafka topic or that are being read from the Kafka topic.\n",
    "\n",
    "\n",
    "* **`Fault Tolerant -`** It means, Even if one of the `broker` (one of the node in the Kafka cluster) goes down, Still We should be able to run our applications as it is, without impacting to the cluster, up to an extent.\n",
    "\n",
    "    * Even if some of the nodes or brokers goes down, Still We should be able to access the events in the Kafka topics Using our applications.\n",
    "\n",
    "\n",
    "* **`Secure -`** It means the security is taken care of, because the messages will be written in `encrypted` fashion. We can even enable authentication on top of Kafka topics to ensure :\n",
    "\n",
    "    * Only those applications that are supposed to write into Kafka topics, can write.\n",
    "\n",
    "    * Only those applications that are supposed to read from Kafka topics, can read."
   ]
  },
  {
   "cell_type": "markdown",
   "id": "dd8d2558-1022-4dba-8a2d-a788466009a0",
   "metadata": {},
   "source": [
    "## Availability of Kafka\n",
    "\n",
    "* Kafka can be deployed on `bare-metal hardware`, `virtual machines`, `containers`, and also `on premises` as well as in the `cloud`.\n",
    "\n",
    "* There are several vendors, which actually provide fully managed services related to Kafka clusters.\n",
    "    * Confluent\n",
    "    \n",
    "    * Amazon Web services\n",
    "\n",
    "    * Microsoft Azure\n",
    "\n",
    "    * Google Cloud platform\n",
    "\n",
    "    * IBM"
   ]
  }
 ],
 "metadata": {
  "kernelspec": {
   "display_name": "Python 3 (ipykernel)",
   "language": "python",
   "name": "python3"
  },
  "language_info": {
   "codemirror_mode": {
    "name": "ipython",
    "version": 3
   },
   "file_extension": ".py",
   "mimetype": "text/x-python",
   "name": "python",
   "nbconvert_exporter": "python",
   "pygments_lexer": "ipython3",
   "version": "3.9.12"
  }
 },
 "nbformat": 4,
 "nbformat_minor": 5
}
